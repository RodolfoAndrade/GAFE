{
 "cells": [
  {
   "cell_type": "code",
   "execution_count": 69,
   "metadata": {},
   "outputs": [],
   "source": [
    "import random\n",
    "from functions.FE import FE\n",
    "from fitness import Classifier\n",
    "from sklearn.preprocessing import MinMaxScaler\n",
    "import numpy as np\n",
    "import pandas as pd\n",
    "from deap import base, creator, tools, algorithms"
   ]
  },
  {
   "cell_type": "code",
   "execution_count": 70,
   "metadata": {
    "collapsed": true
   },
   "outputs": [],
   "source": [
    "functionalExp = FE()\n",
    "iris = pd.read_csv(\"iris.data\", sep=\",\")\n",
    "irisAtts = iris.drop(\"class\", 1)\n",
    "target = iris[\"class\"]\n",
    "\n",
    "#Scale to [0,1] before expanding\n",
    "scaledIris = MinMaxScaler().fit_transform(irisAtts)\n",
    "model = Classifier(target, 10, 5)\n"
   ]
  },
  {
   "cell_type": "code",
   "execution_count": 71,
   "metadata": {
    "collapsed": true
   },
   "outputs": [],
   "source": [
    "ncols = scaledIris.shape[1]"
   ]
  },
  {
   "cell_type": "code",
   "execution_count": 72,
   "metadata": {
    "collapsed": true
   },
   "outputs": [],
   "source": [
    "def fitnessFunction(individual):\n",
    "    data = functionalExp.expandMatrix(scaledIris, individual)\n",
    "    return (model.knn(data),)\n",
    "    "
   ]
  },
  {
   "cell_type": "code",
   "execution_count": 86,
   "metadata": {},
   "outputs": [],
   "source": [
    "def mutateIndividual(individual, indpb):\n",
    "    xmen = []\n",
    "    for ind in individual:\n",
    "        if(random.uniform(0,1) <= indpb):\n",
    "            xmen.append((random.randint(1, 7), random.randint(1, 7)))\n",
    "        else:\n",
    "            xmen.append(ind)\n",
    "            \n",
    "    return (creator.Individual(xmen),)"
   ]
  },
  {
   "cell_type": "code",
   "execution_count": 61,
   "metadata": {},
   "outputs": [
    {
     "data": {
      "text/plain": [
       "[(1, 2), (3, 4), (7, 3), (5, 3)]"
      ]
     },
     "execution_count": 61,
     "metadata": {},
     "output_type": "execute_result"
    }
   ],
   "source": [
    "mutateIndividual([(1,2), (3,4), (7,3), (2,3)], 0.25)"
   ]
  },
  {
   "cell_type": "code",
   "execution_count": 22,
   "metadata": {},
   "outputs": [
    {
     "name": "stdout",
     "output_type": "stream",
     "text": [
      "(0.96666666666666656,)\n"
     ]
    }
   ],
   "source": [
    "print(fitnessFunction( [(1,4) for x in range(4)]))"
   ]
  },
  {
   "cell_type": "code",
   "execution_count": 90,
   "metadata": {},
   "outputs": [
    {
     "name": "stdout",
     "output_type": "stream",
     "text": [
      "None\n"
     ]
    },
    {
     "name": "stderr",
     "output_type": "stream",
     "text": [
      "/home/abd/Workspace/darmpy/darmpy/lib/python3.5/site-packages/deap-1.1.0-py3.5-linux-x86_64.egg/deap/creator.py:141: RuntimeWarning: A class named 'FitnessMax' has already been created and it will be overwritten. Consider deleting previous creation of that class or rename it.\n",
      "  RuntimeWarning)\n",
      "/home/abd/Workspace/darmpy/darmpy/lib/python3.5/site-packages/deap-1.1.0-py3.5-linux-x86_64.egg/deap/creator.py:141: RuntimeWarning: A class named 'Individual' has already been created and it will be overwritten. Consider deleting previous creation of that class or rename it.\n",
      "  RuntimeWarning)\n"
     ]
    }
   ],
   "source": [
    "print(creator.create(\"FitnessMax\", base.Fitness, weights=(1.0,)))\n",
    "creator.create(\"Individual\", list, fitness=creator.FitnessMax)\n"
   ]
  },
  {
   "cell_type": "code",
   "execution_count": 92,
   "metadata": {},
   "outputs": [
    {
     "name": "stdout",
     "output_type": "stream",
     "text": [
      "pair is of type <class 'tuple'> and has value\n",
      "(1, 3)\n",
      "ind is of type <class 'deap.creator.Individual'> and contains 4 pairs\n",
      "[(1, 2), (2, 7), (6, 3), (7, 6)]\n",
      "pop is of type <class 'list'> and contains 21 individuals\n",
      "[[(2, 7), (3, 4), (3, 6), (5, 5)], [(2, 3), (7, 3), (2, 6), (6, 6)], [(4, 2), (7, 7), (6, 5), (1, 2)], [(3, 1), (5, 1), (1, 5), (5, 7)], [(7, 5), (3, 7), (3, 5), (2, 2)], [(7, 2), (1, 7), (3, 5), (2, 6)], [(3, 3), (4, 7), (3, 7), (2, 3)], [(2, 7), (6, 2), (6, 5), (7, 1)], [(2, 7), (2, 5), (7, 6), (4, 1)], [(1, 4), (1, 3), (6, 3), (6, 6)], [(6, 3), (7, 7), (3, 4), (7, 6)], [(7, 6), (3, 2), (5, 2), (3, 7)], [(3, 2), (3, 4), (1, 1), (6, 3)], [(1, 4), (2, 2), (1, 5), (7, 2)], [(7, 1), (7, 6), (3, 3), (6, 4)], [(4, 4), (7, 3), (2, 5), (2, 2)], [(7, 4), (1, 2), (5, 7), (1, 4)], [(5, 2), (1, 7), (7, 2), (3, 6)], [(4, 5), (2, 3), (2, 5), (1, 1)], [(6, 2), (4, 1), (3, 3), (5, 6)], [(3, 1), (6, 5), (5, 7), (2, 4)]]\n"
     ]
    }
   ],
   "source": [
    "toolbox = base.Toolbox()\n",
    "toolbox.register(\"createPair\",  lambda : (random.randint(1, 7), random.randint(1, 7)))\n",
    "toolbox.register(\"individual\", tools.initRepeat, creator.Individual, toolbox.createPair, n=ncols)\n",
    "toolbox.register(\"population\", tools.initRepeat, list, toolbox.individual)\n",
    "\n",
    "pair = toolbox.createPair()\n",
    "ind = toolbox.individual()\n",
    "pop = toolbox.population(n=21)\n",
    "\n",
    "print(\"pair is of type %s and has value\\n%s\" % (type(pair), pair))\n",
    "print(\"ind is of type %s and contains %d pairs\\n%s\" % (type(ind), len(ind), ind))\n",
    "print(\"pop is of type %s and contains %d individuals\\n%s\" % (type(pop), len(pop), pop))"
   ]
  },
  {
   "cell_type": "code",
   "execution_count": 76,
   "metadata": {
    "collapsed": true
   },
   "outputs": [],
   "source": [
    "toolbox.register(\"evaluate\", fitnessFunction)\n",
    "toolbox.register(\"mate\", tools.cxOnePoint)\n",
    "\n"
   ]
  },
  {
   "cell_type": "code",
   "execution_count": 87,
   "metadata": {
    "collapsed": true
   },
   "outputs": [],
   "source": [
    "toolbox.register(\"mutate\", mutateIndividual, indpb=1.0/ncols)\n",
    "toolbox.register(\"select\", tools.selTournament, tournsize=3)"
   ]
  },
  {
   "cell_type": "code",
   "execution_count": 88,
   "metadata": {
    "collapsed": true
   },
   "outputs": [],
   "source": [
    "def main():\n",
    "    import numpy\n",
    "    \n",
    "    pop = toolbox.population(n=21)\n",
    "    hof = tools.HallOfFame(2)\n",
    "    stats = tools.Statistics(lambda ind: ind.fitness.values)\n",
    "    stats.register(\"avg\", numpy.mean)\n",
    "    stats.register(\"min\", numpy.min)\n",
    "    stats.register(\"max\", numpy.max)\n",
    "    \n",
    "    pop, logbook = algorithms.eaSimple(pop, toolbox, cxpb=0.9, mutpb=0.1, ngen=10*ncols, stats=stats, halloffame=hof, verbose=True)\n",
    "    \n",
    "    return pop, logbook, hof"
   ]
  },
  {
   "cell_type": "code",
   "execution_count": 89,
   "metadata": {},
   "outputs": [
    {
     "name": "stdout",
     "output_type": "stream",
     "text": [
      "gen\tnevals\tavg     \tmin     \tmax     \n",
      "0  \t21    \t0.947619\t0.873333\t0.973333\n",
      "1  \t18    \t0.953968\t0.926667\t0.98    \n",
      "2  \t18    \t0.96254 \t0.946667\t0.98    \n",
      "3  \t20    \t0.967937\t0.946667\t0.98    \n",
      "4  \t19    \t0.972698\t0.953333\t0.98    \n",
      "5  \t18    \t0.973333\t0.946667\t0.98    \n",
      "6  \t18    \t0.97619 \t0.953333\t0.98    \n",
      "7  \t20    \t0.974921\t0.933333\t0.98    \n",
      "8  \t20    \t0.97873 \t0.953333\t0.98    \n",
      "9  \t20    \t0.97746 \t0.94    \t0.98    \n",
      "10 \t20    \t0.98    \t0.98    \t0.98    \n",
      "11 \t17    \t0.976508\t0.933333\t0.98    \n",
      "12 \t20    \t0.98    \t0.98    \t0.98    \n",
      "13 \t18    \t0.979365\t0.966667\t0.98    \n",
      "14 \t18    \t0.975556\t0.933333\t0.98    \n",
      "15 \t20    \t0.97619 \t0.946667\t0.98    \n",
      "16 \t18    \t0.979048\t0.966667\t0.98    \n",
      "17 \t18    \t0.97873 \t0.953333\t0.98    \n",
      "18 \t18    \t0.977143\t0.946667\t0.98    \n",
      "19 \t20    \t0.98    \t0.98    \t0.98    \n",
      "20 \t20    \t0.979683\t0.973333\t0.98    \n",
      "21 \t19    \t0.97873 \t0.953333\t0.98    \n",
      "22 \t20    \t0.98    \t0.98    \t0.98    \n",
      "23 \t18    \t0.97873 \t0.966667\t0.98    \n",
      "24 \t18    \t0.978413\t0.946667\t0.98    \n",
      "25 \t20    \t0.97873 \t0.953333\t0.98    \n",
      "26 \t20    \t0.975873\t0.946667\t0.98    \n",
      "27 \t18    \t0.977778\t0.953333\t0.98    \n",
      "28 \t18    \t0.98    \t0.98    \t0.98    \n",
      "29 \t16    \t0.978413\t0.96    \t0.98    \n",
      "30 \t20    \t0.98    \t0.98    \t0.98    \n",
      "31 \t20    \t0.978413\t0.946667\t0.98    \n",
      "32 \t17    \t0.979365\t0.966667\t0.98    \n",
      "33 \t17    \t0.978095\t0.96    \t0.98    \n",
      "34 \t21    \t0.979683\t0.973333\t0.98    \n",
      "35 \t20    \t0.978095\t0.953333\t0.98    \n",
      "36 \t18    \t0.98    \t0.98    \t0.98    \n",
      "37 \t18    \t0.979365\t0.966667\t0.98    \n",
      "38 \t20    \t0.98    \t0.98    \t0.98    \n",
      "39 \t20    \t0.98    \t0.98    \t0.98    \n",
      "40 \t19    \t0.975556\t0.946667\t0.98    \n",
      "Best individual is: [(1, 1), (4, 3), (3, 7), (4, 7)]\n",
      "with fitness: (0.98000000000000009,)\n"
     ]
    },
    {
     "data": {
      "image/png": "[encoded data removed]",
      "text/plain": [
       "<matplotlib.figure.Figure at 0x7f16fc65f5c0>"
      ]
     },
     "metadata": {},
     "output_type": "display_data"
    }
   ],
   "source": [
    "if __name__ == \"__main__\":\n",
    "    pop, log, hof = main()\n",
    "    print(\"Best individual is: %s\\nwith fitness: %s\" % (hof[0], hof[0].fitness))\n",
    "    \n",
    "    import matplotlib.pyplot as plt\n",
    "    gen, avg, min_, max_ = log.select(\"gen\", \"avg\", \"min\", \"max\")\n",
    "    plt.plot(gen, avg, label=\"average\")\n",
    "    plt.plot(gen, min_, label=\"minimum\")\n",
    "    plt.plot(gen, max_, label=\"maximum\")\n",
    "    plt.xlabel(\"Generation\")\n",
    "    plt.ylabel(\"Fitness\")\n",
    "    plt.legend(loc=\"lower right\")\n",
    "    plt.show()"
   ]
  }
 ],
 "metadata": {
  "kernelspec": {
   "display_name": "Python 3",
   "language": "python",
   "name": "python3"
  },
  "language_info": {
   "codemirror_mode": {
    "name": "ipython",
    "version": 3
   },
   "file_extension": ".py",
   "mimetype": "text/x-python",
   "name": "python",
   "nbconvert_exporter": "python",
   "pygments_lexer": "ipython3",
   "version": "3.5.2"
  }
 },
 "nbformat": 4,
 "nbformat_minor": 2
}
