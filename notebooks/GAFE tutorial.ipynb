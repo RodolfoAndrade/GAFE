{
 "cells": [
  {
   "cell_type": "markdown",
   "metadata": {},
   "source": [
    "Import modules from GAFE"
   ]
  },
  {
   "cell_type": "code",
   "execution_count": null,
   "metadata": {
    "collapsed": true
   },
   "outputs": [],
   "source": [
    "#Implements functional expansions\n",
    "from functions.FE import FE\n",
    "#Evaluates accuracy in a dataset for a particular classifier\n",
    "from fitness import Classifier\n",
    "#Implements gafe using DEAP toolbox\n",
    "import ga"
   ]
  },
  {
   "cell_type": "markdown",
   "metadata": {},
   "source": [
    "Import modules from scikit-learn, numpy and pandas to help us deal with the data"
   ]
  },
  {
   "cell_type": "code",
   "execution_count": null,
   "metadata": {
    "collapsed": true
   },
   "outputs": [],
   "source": [
    "from sklearn.preprocessing import MinMaxScaler\n",
    "import numpy as np\n",
    "import pandas as pd"
   ]
  },
  {
   "cell_type": "markdown",
   "metadata": {},
   "source": [
    "Load data using pandas. We will use the famous Iris Dataset"
   ]
  },
  {
   "cell_type": "code",
   "execution_count": null,
   "metadata": {
    "collapsed": true
   },
   "outputs": [],
   "source": [
    "iris = pd.read_csv(\"data/iris.data\", sep=\",\")\n",
    "#Isolate the attributes columns\n",
    "irisAtts = iris.drop(\"class\", 1)\n",
    "#Isolate the class column\n",
    "target = iris[\"class\"]"
   ]
  },
  {
   "cell_type": "markdown",
   "metadata": {},
   "source": [
    "Prior to expanding the data, put all values to interval [0,1] for better results"
   ]
  },
  {
   "cell_type": "code",
   "execution_count": null,
   "metadata": {
    "collapsed": true
   },
   "outputs": [],
   "source": [
    "scaledIris = MinMaxScaler().fit_transform(irisAtts)"
   ]
  },
  {
   "cell_type": "markdown",
   "metadata": {},
   "source": [
    "If, we didnt use GAFE, after testing 49 (7*7) combinations of FE-ES this configuration would be the best for each classifier. Note we are applying the same FE-ES pair for every data column"
   ]
  },
  {
   "cell_type": "code",
   "execution_count": null,
   "metadata": {
    "collapsed": true
   },
   "outputs": [],
   "source": [
    "bestSingleMatch = {'knn': [(1,5) for x in range(4)], 'cart': [(3,2) for x in range(4)], 'svm': [(7,4) for x in range(4)]}\n"
   ]
  },
  {
   "cell_type": "markdown",
   "metadata": {},
   "source": [
    "Now lets calculate the accuracy results for original data, single match and GAFE."
   ]
  },
  {
   "cell_type": "code",
   "execution_count": null,
   "metadata": {
    "collapsed": true
   },
   "outputs": [],
   "source": [
    "functionalExp = FE()\n",
    "\n",
    "for cl in ['knn', 'cart', 'svm']:\n",
    "        #Folds are the number of folds used in crossvalidation\n",
    "        #Jobs are the number of CPUS used in crossvalidation and some classifiers training step.\n",
    "        #You can also change some classifier parameters, such as k_neigh for neighbors in knn, C in svm and others.\n",
    "        #If you do not specify, it will use the articles default.        \n",
    "        model = Classifier(cl, target, folds=10, jobs=6)\n",
    "        #The class internally normalizes data, so no need to send normalized data when classifying \n",
    "        #accuracy without expanding\n",
    "        print(\"original accuracy \" + cl + \" \" + str(model.getAccuracy(irisAtts)))\n",
    "        #Expand the scaled data \n",
    "        expandedData = functionalExp.expandMatrix(scaledIris, bestSingleMatch[cl])\n",
    "        print(\"single match expansion accuracy \" + cl + \" \" + str(model.getAccuracy(expandedData)))\n",
    "        #If scaled is False, it will scale data in range [0,1]\n",
    "        gafe = ga.GAFE(model, scaledIris, target, scaled=True)\n",
    "        #Specify how many iterations of GAFE you wish with n_iter\n",
    "        #Note that this is a slow method, so have patience if n_iter is high        \n",
    "        avg, bestPair = gafe.runGAFE(n_population=21, n_iter=1, verbose=True)\n",
    "        print(\"gafe \" + cl + \" \" + str(avg) )"
   ]
  }
 ],
 "metadata": {
  "kernelspec": {
   "display_name": "Python 3",
   "language": "python",
   "name": "python3"
  },
  "language_info": {
   "codemirror_mode": {
    "name": "ipython",
    "version": 3
   },
   "file_extension": ".py",
   "mimetype": "text/x-python",
   "name": "python",
   "nbconvert_exporter": "python",
   "pygments_lexer": "ipython3",
   "version": "3.5.2"
  }
 },
 "nbformat": 4,
 "nbformat_minor": 2
}
