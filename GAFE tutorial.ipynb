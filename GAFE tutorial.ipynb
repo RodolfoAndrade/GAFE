{
 "cells": [
  {
   "cell_type": "markdown",
   "metadata": {},
   "source": [
    "Import modules from GAFE"
   ]
  },
  {
   "cell_type": "code",
   "execution_count": 1,
   "metadata": {},
   "outputs": [],
   "source": [
    "#Implements functional expansions\n",
    "from functions.FE import FE\n",
    "#Evaluates accuracy in a dataset for a particular classifier\n",
    "from fitness import Classifier\n",
    "#Implements gafe using DEAP toolbox\n",
    "import ga"
   ]
  },
  {
   "cell_type": "markdown",
   "metadata": {},
   "source": [
    "Import modules from scikit-learn, numpy and pandas to help us deal with the data"
   ]
  },
  {
   "cell_type": "code",
   "execution_count": 2,
   "metadata": {
    "collapsed": true
   },
   "outputs": [],
   "source": [
    "from sklearn.preprocessing import MinMaxScaler\n",
    "import numpy as np\n",
    "import pandas as pd"
   ]
  },
  {
   "cell_type": "markdown",
   "metadata": {},
   "source": [
    "Load data using pandas. We will use the famous Iris Dataset"
   ]
  },
  {
   "cell_type": "code",
   "execution_count": 3,
   "metadata": {
    "collapsed": true
   },
   "outputs": [],
   "source": [
    "iris = pd.read_csv(\"data/iris.data\", sep=\",\")\n",
    "#Isolate the attributes columns\n",
    "irisAtts = iris.drop(\"class\", 1)\n",
    "#Isolate the class column\n",
    "target = iris[\"class\"]"
   ]
  },
  {
   "cell_type": "markdown",
   "metadata": {},
   "source": [
    "Prior to expanding the data, put all values to interval [0,1] for better results"
   ]
  },
  {
   "cell_type": "code",
   "execution_count": 4,
   "metadata": {
    "collapsed": true
   },
   "outputs": [],
   "source": [
    "scaledIris = MinMaxScaler().fit_transform(irisAtts)"
   ]
  },
  {
   "cell_type": "markdown",
   "metadata": {},
   "source": [
    "If, we didnt use GAFE, after testing 49 (7*7) combinations of FE-ES this configuration would be the best for each classifier. Note we are applying the same FE-ES pair for every data column"
   ]
  },
  {
   "cell_type": "code",
   "execution_count": 5,
   "metadata": {
    "collapsed": true
   },
   "outputs": [],
   "source": [
    "bestSingleMatch = {'knn': [(1,5) for x in range(4)], 'cart': [(3,2) for x in range(4)], 'svm': [(7,4) for x in range(4)]}\n"
   ]
  },
  {
   "cell_type": "markdown",
   "metadata": {},
   "source": [
    "Now lets calculate the accuracy results for original data, single match and GAFE."
   ]
  },
  {
   "cell_type": "code",
   "execution_count": 6,
   "metadata": {},
   "outputs": [
    {
     "name": "stdout",
     "output_type": "stream",
     "text": [
      "original accuracy knn 0.96\n",
      "single match expansion accuracy knn 0.966666666667\n",
      "GAFE iteration = 1\n",
      "gen\tnevals\tavg     \tmin     \tmax     \n",
      "0  \t21    \t0.949524\t0.893333\t0.966667\n",
      "1  \t16    \t0.951111\t0.866667\t0.973333\n",
      "2  \t18    \t0.960317\t0.946667\t0.973333\n",
      "3  \t18    \t0.96127 \t0.933333\t0.966667\n",
      "4  \t18    \t0.958095\t0.946667\t0.966667\n",
      "5  \t16    \t0.96381 \t0.946667\t0.986667\n",
      "6  \t18    \t0.969206\t0.953333\t0.986667\n",
      "7  \t18    \t0.974603\t0.946667\t0.986667\n",
      "8  \t19    \t0.98254 \t0.953333\t0.986667\n",
      "9  \t16    \t0.98381 \t0.953333\t0.986667\n",
      "10 \t20    \t0.984762\t0.946667\t0.986667\n",
      "11 \t19    \t0.984127\t0.933333\t0.986667\n",
      "12 \t21    \t0.985714\t0.966667\t0.986667\n",
      "13 \t18    \t0.986349\t0.98    \t0.986667\n",
      "14 \t19    \t0.981587\t0.953333\t0.986667\n",
      "15 \t21    \t0.985714\t0.966667\t0.986667\n",
      "16 \t18    \t0.986667\t0.986667\t0.986667\n",
      "17 \t20    \t0.985714\t0.966667\t0.986667\n",
      "18 \t14    \t0.986667\t0.986667\t0.986667\n",
      "19 \t18    \t0.97746 \t0.92    \t0.986667\n",
      "20 \t18    \t0.985397\t0.96    \t0.986667\n",
      "21 \t18    \t0.983492\t0.966667\t0.986667\n",
      "22 \t16    \t0.980635\t0.94    \t0.986667\n",
      "23 \t20    \t0.985079\t0.96    \t0.986667\n",
      "24 \t18    \t0.986667\t0.986667\t0.986667\n",
      "25 \t17    \t0.986667\t0.986667\t0.986667\n",
      "26 \t20    \t0.986667\t0.986667\t0.986667\n",
      "27 \t18    \t0.984127\t0.933333\t0.986667\n",
      "28 \t18    \t0.985397\t0.96    \t0.986667\n",
      "29 \t20    \t0.986032\t0.973333\t0.986667\n",
      "30 \t17    \t0.984444\t0.953333\t0.986667\n",
      "31 \t20    \t0.984762\t0.96    \t0.986667\n",
      "32 \t20    \t0.985079\t0.96    \t0.986667\n",
      "33 \t18    \t0.984762\t0.96    \t0.986667\n",
      "34 \t20    \t0.977143\t0.9     \t0.986667\n",
      "35 \t20    \t0.986667\t0.986667\t0.986667\n",
      "36 \t20    \t0.985714\t0.966667\t0.986667\n",
      "37 \t19    \t0.985079\t0.953333\t0.986667\n",
      "38 \t18    \t0.986667\t0.986667\t0.986667\n",
      "39 \t18    \t0.984762\t0.96    \t0.986667\n",
      "40 \t18    \t0.978413\t0.92    \t0.986667\n",
      "Accuracy for GAFE iteration is 0.986666666667\n",
      "gafe knn 0.986666666667\n",
      "original accuracy cart 0.966666666667\n",
      "single match expansion accuracy cart 0.973333333333\n",
      "GAFE iteration = 1\n",
      "gen\tnevals\tavg     \tmin     \tmax \n",
      "0  \t21    \t0.952063\t0.926667\t0.98\n",
      "1  \t18    \t0.952381\t0.913333\t0.98\n",
      "2  \t18    \t0.96254 \t0.933333\t0.98\n",
      "3  \t18    \t0.968571\t0.933333\t0.98\n",
      "4  \t18    \t0.970794\t0.92    \t0.986667\n",
      "5  \t21    \t0.975873\t0.953333\t0.986667\n",
      "6  \t18    \t0.980635\t0.966667\t0.986667\n",
      "7  \t20    \t0.980635\t0.946667\t0.986667\n",
      "8  \t18    \t0.981587\t0.96    \t0.986667\n",
      "9  \t18    \t0.981905\t0.94    \t0.986667\n",
      "10 \t18    \t0.985079\t0.953333\t0.986667\n",
      "11 \t16    \t0.986667\t0.986667\t0.986667\n",
      "12 \t20    \t0.985714\t0.966667\t0.986667\n",
      "13 \t18    \t0.985714\t0.966667\t0.986667\n",
      "14 \t18    \t0.984444\t0.94    \t0.986667\n",
      "15 \t20    \t0.986667\t0.986667\t0.986667\n",
      "16 \t20    \t0.986667\t0.986667\t0.986667\n",
      "17 \t19    \t0.985714\t0.966667\t0.986667\n",
      "18 \t18    \t0.985079\t0.953333\t0.986667\n",
      "19 \t16    \t0.986667\t0.986667\t0.986667\n",
      "20 \t18    \t0.986349\t0.98    \t0.986667\n",
      "21 \t16    \t0.98381 \t0.946667\t0.986667\n",
      "22 \t21    \t0.986667\t0.986667\t0.986667\n",
      "23 \t19    \t0.984444\t0.94    \t0.986667\n",
      "24 \t20    \t0.986032\t0.973333\t0.986667\n",
      "25 \t17    \t0.983492\t0.94    \t0.986667\n",
      "26 \t18    \t0.985079\t0.953333\t0.986667\n",
      "27 \t18    \t0.982222\t0.893333\t0.986667\n",
      "28 \t19    \t0.984127\t0.953333\t0.986667\n",
      "29 \t18    \t0.985079\t0.96    \t0.986667\n",
      "30 \t16    \t0.986349\t0.98    \t0.986667\n",
      "31 \t16    \t0.986032\t0.973333\t0.986667\n",
      "32 \t20    \t0.984444\t0.94    \t0.986667\n",
      "33 \t17    \t0.983492\t0.94    \t0.986667\n",
      "34 \t18    \t0.984444\t0.96    \t0.986667\n",
      "35 \t20    \t0.984444\t0.953333\t0.986667\n",
      "36 \t19    \t0.985079\t0.953333\t0.986667\n",
      "37 \t18    \t0.986667\t0.986667\t0.986667\n",
      "38 \t18    \t0.984127\t0.953333\t0.986667\n",
      "39 \t18    \t0.979683\t0.933333\t0.986667\n",
      "40 \t19    \t0.979365\t0.933333\t0.986667\n",
      "Accuracy for GAFE iteration is 0.986666666667\n",
      "gafe cart 0.986666666667\n",
      "original accuracy svm 0.96\n",
      "single match expansion accuracy svm 0.98\n",
      "GAFE iteration = 1\n",
      "gen\tnevals\tavg    \tmin     \tmax \n",
      "0  \t21    \t0.95873\t0.926667\t0.98\n",
      "1  \t18    \t0.964444\t0.946667\t0.98\n",
      "2  \t19    \t0.968889\t0.953333\t0.98\n",
      "3  \t20    \t0.978413\t0.966667\t0.98\n",
      "4  \t18    \t0.979048\t0.966667\t0.986667\n",
      "5  \t17    \t0.979365\t0.973333\t0.986667\n",
      "6  \t20    \t0.97873 \t0.953333\t0.986667\n",
      "7  \t20    \t0.98127 \t0.966667\t0.986667\n",
      "8  \t18    \t0.984762\t0.973333\t0.993333\n",
      "9  \t16    \t0.984444\t0.973333\t0.993333\n",
      "10 \t19    \t0.985714\t0.973333\t0.993333\n",
      "11 \t18    \t0.986984\t0.98    \t0.993333\n",
      "12 \t20    \t0.986349\t0.973333\t0.993333\n",
      "13 \t17    \t0.983175\t0.953333\t0.993333\n",
      "14 \t17    \t0.987937\t0.973333\t0.993333\n",
      "15 \t20    \t0.990476\t0.973333\t0.993333\n",
      "16 \t17    \t0.993016\t0.986667\t0.993333\n",
      "17 \t20    \t0.992698\t0.98    \t0.993333\n",
      "18 \t20    \t0.993333\t0.993333\t0.993333\n",
      "19 \t17    \t0.991746\t0.96    \t0.993333\n",
      "20 \t16    \t0.993333\t0.993333\t0.993333\n",
      "21 \t16    \t0.992698\t0.98    \t0.993333\n",
      "22 \t19    \t0.991746\t0.973333\t0.993333\n",
      "23 \t21    \t0.991429\t0.953333\t0.993333\n",
      "24 \t18    \t0.992063\t0.966667\t0.993333\n",
      "25 \t20    \t0.992698\t0.98    \t0.993333\n",
      "26 \t16    \t0.993333\t0.993333\t0.993333\n",
      "27 \t21    \t0.992063\t0.966667\t0.993333\n",
      "28 \t16    \t0.989841\t0.94    \t0.993333\n",
      "29 \t20    \t0.989524\t0.946667\t0.993333\n",
      "30 \t20    \t0.993333\t0.993333\t0.993333\n",
      "31 \t18    \t0.993016\t0.986667\t0.993333\n",
      "32 \t21    \t0.989524\t0.946667\t0.993333\n",
      "33 \t19    \t0.990476\t0.96    \t0.993333\n",
      "34 \t18    \t0.993333\t0.993333\t0.993333\n",
      "35 \t20    \t0.992698\t0.98    \t0.993333\n",
      "36 \t18    \t0.992698\t0.98    \t0.993333\n",
      "37 \t16    \t0.991111\t0.966667\t0.993333\n",
      "38 \t19    \t0.988571\t0.946667\t0.993333\n",
      "39 \t19    \t0.992698\t0.98    \t0.993333\n",
      "40 \t18    \t0.993333\t0.993333\t0.993333\n",
      "Accuracy for GAFE iteration is 0.993333333333\n",
      "gafe svm 0.993333333333\n"
     ]
    }
   ],
   "source": [
    "functionalExp = FE()\n",
    "\n",
    "for cl in ['knn', 'cart', 'svm']:\n",
    "        #Folds are the number of folds used in crossvalidation\n",
    "        #Jobs are the number of CPUS used in crossvalidation and some classifiers training step.\n",
    "        #You can also change some classifier parameters, such as k_neigh for neighbors in knn, C in svm and others.\n",
    "        #If you do not specify, it will use the articles default.        \n",
    "        model = Classifier(cl, target, folds=10, jobs=6)\n",
    "        #The class internally normalizes data, so no need to send normalized data when classifying \n",
    "        #accuracy without expanding\n",
    "        print(\"original accuracy \" + cl + \" \" + str(model.getAccuracy(irisAtts)))\n",
    "        #Expand the scaled data \n",
    "        expandedData = functionalExp.expandMatrix(scaledIris, bestSingleMatch[cl])\n",
    "        print(\"single match expansion accuracy \" + cl + \" \" + str(model.getAccuracy(expandedData)))\n",
    "        #If scaled is False, it will scale data in range [0,1]\n",
    "        gafe = ga.GAFE(model, scaledIris, target, scaled=True)\n",
    "        #Specify how many iterations of GAFE you wish with n_iter\n",
    "        #Note that this is a slow method, so have patience if n_iter is high        \n",
    "        avg, bestPair = gafe.runGAFE(n_population=21, n_iter=1, verbose=True)\n",
    "        print(\"gafe \" + cl + \" \" + str(avg) )"
   ]
  }
 ],
 "metadata": {
  "kernelspec": {
   "display_name": "Python 3",
   "language": "python",
   "name": "python3"
  },
  "language_info": {
   "codemirror_mode": {
    "name": "ipython",
    "version": 3
   },
   "file_extension": ".py",
   "mimetype": "text/x-python",
   "name": "python",
   "nbconvert_exporter": "python",
   "pygments_lexer": "ipython3",
   "version": "3.5.2"
  }
 },
 "nbformat": 4,
 "nbformat_minor": 2
}
